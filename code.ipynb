{
 "cells": [
  {
   "cell_type": "code",
   "execution_count": 6,
   "metadata": {},
   "outputs": [],
   "source": [
    "import shutil\n",
    "import os\n",
    "\n",
    "source_dir = r'C:\\Users\\Hi\\Desktop\\batch_detection.v2i.voc\\test'\n",
    "destination_dir = r'JPEGImages'\n",
    "\n",
    "# Ensure the destination directory exists\n",
    "os.makedirs(destination_dir, exist_ok=True)\n",
    "\n",
    "# Copy all .xml files\n",
    "for file_name in os.listdir(source_dir):\n",
    "    if file_name.endswith('.jpg'):\n",
    "        shutil.copy(os.path.join(source_dir, file_name), destination_dir)"
   ]
  },
  {
   "cell_type": "code",
   "execution_count": 11,
   "metadata": {},
   "outputs": [],
   "source": [
    "source_dir = r'C:\\Users\\Hi\\Desktop\\batch_detection.v2i.voc\\valid'\n",
    "destination_file = r'ImageSets\\Main\\trainval.txt'\n",
    "\n",
    "# Ensure the destination directory exists\n",
    "os.makedirs(os.path.dirname(destination_file), exist_ok=True)\n",
    "\n",
    "# Extract .jpg file names and write to test.txt\n",
    "with open(destination_file, 'w') as f:\n",
    "    for file_name in os.listdir(source_dir):\n",
    "        if file_name.endswith('.jpg'):\n",
    "            f.write(os.path.splitext(file_name)[0] + '\\n')"
   ]
  }
 ],
 "metadata": {
  "kernelspec": {
   "display_name": "base",
   "language": "python",
   "name": "python3"
  },
  "language_info": {
   "codemirror_mode": {
    "name": "ipython",
    "version": 3
   },
   "file_extension": ".py",
   "mimetype": "text/x-python",
   "name": "python",
   "nbconvert_exporter": "python",
   "pygments_lexer": "ipython3",
   "version": "3.9.18"
  }
 },
 "nbformat": 4,
 "nbformat_minor": 2
}
